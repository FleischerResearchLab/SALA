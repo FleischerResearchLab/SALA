{
 "cells": [
  {
   "cell_type": "code",
   "execution_count": null,
   "metadata": {},
   "outputs": [],
   "source": [
    "# default_exp plot_light\n",
    "\n",
    "import matplotlib.pyplot as plt\n",
    "%matplotlib inline\n",
    "\n",
    "import pandas as pd\n",
    "import numpy as np\n",
    "import seaborn as sns\n",
    "import matplotlib.dates as md\n",
    "import matplotlib as mpl\n",
    "\n",
    "from datetime import time"
   ]
  },
  {
   "cell_type": "code",
   "execution_count": null,
   "metadata": {},
   "outputs": [],
   "source": [
    "def plot_light(d_list, l_list,\n",
    "               toplot = \"mean/sem\",\n",
    "               y_lim = 1000, y_label = \"Lux\",\n",
    "               palette=sns.color_palette('deep')):\n",
    "    \n",
    "    assert ( len(d_list) == len(l_list) )\n",
    "    dm = []\n",
    "    dlo = []\n",
    "    dhi = []\n",
    "    tinc = 200\n",
    "    \n",
    "    if toplot == \"mean/sem\":\n",
    "        for d in d_list:\n",
    "            dm.append(pd.Series(d.mean()).sort_index())\n",
    "            tmp = pd.Series(d.sem()).sort_index()\n",
    "            dlo.append( dm[-1] - tmp )\n",
    "            dhi.append( dm[-1] + tmp )\n",
    "    elif toplot == \"counts\":\n",
    "        tinc = 5000\n",
    "        toplot = ''\n",
    "        y_label = \"Number of samples \"\n",
    "        y_lim = np.max( [d1m.max(), d2m.max()] ) * 1.05\n",
    "        for d in d_list:\n",
    "            dm.append( d.count().sort_index() )\n",
    "            dlo.append( dm[-1] )\n",
    "            dhi.append( dm[-1] )\n",
    "    elif toplot==\"quantiles\":\n",
    "        for d in d_list:\n",
    "            dm.append( d.median().sort_index() )\n",
    "            dlo.append( d.quantile(0.25).sort_index() )\n",
    "            dhi.append( d.quantile(0.75).sort_index() )\n",
    "    else:\n",
    "        print(\"What do you want to plot? Valid options include:\")\n",
    "        print(\"mean/sem , counts , quantiles\")\n",
    "        return\n",
    "    \n",
    "    plt.figure(figsize=(8,6))\n",
    "    ax=plt.gca()\n",
    "    \n",
    "    pidx = 0\n",
    "    for mid, lo, hi, lab in zip(dm,dlo,dhi,l_list):\n",
    "        cval = mpl.colors.to_hex( palette[pidx] )\n",
    "        pidx = pidx + 1\n",
    "        timval = [ pd.Timestamp(av.isoformat()) for av in mid.index.tolist() ]\n",
    "               \n",
    "        vals = pd.DataFrame( mid )\n",
    "        vals['time']=vals.index.to_series()\n",
    "        vals['mins']=vals.time.apply(lambda x: x.second/60.0 + x.minute + x.hour*60.0)\n",
    "        vals['lux-mins']=vals['White Light']*vals['mins']\n",
    "        v = vals['lux-mins'].mean()/vals['White Light'].mean()\n",
    "        hrs = int(v/1440*24)\n",
    "        mins = int( (v - hrs*60) )\n",
    "        tmid = time( hrs, mins)\n",
    "        print ('{} - cumulative {}*sec: {:e}, center of mass of light exposure: {}'.format(lab,y_label.strip(),mid.sum()*20,tmid))\n",
    "        lab = lab+'\\n{:4.3e} lx*s, COLE {}'.format(mid.sum()*20,tmid)\n",
    "        \n",
    "        ax.plot(timval, mid.values, color=cval, label=lab)\n",
    "        ax.fill_between(timval, hi.values, lo.values, color=cval, alpha=0.33)\n",
    "        \n",
    "    ax.legend()\n",
    "\n",
    "    # format the ticks\n",
    "    tFmt = md.DateFormatter('%H:%M')\n",
    "    ax.xaxis.set_major_locator(md.HourLocator(byhour=range(0,24,4)))\n",
    "    ax.xaxis.set_major_formatter(tFmt)\n",
    "    ax.set_ylim(0,y_lim)\n",
    "    ax.yaxis.set_ticks(np.arange(tinc,y_lim,tinc))\n",
    "\n",
    "    ax.grid(True)\n",
    "    plt.ylabel(y_label + toplot)\n",
    "    plt.xlabel('Time of day')\n"
   ]
  },
  {
   "cell_type": "markdown",
   "metadata": {},
   "source": [
    "## Note:\n",
    "\n",
    "The original notebook takes in processed \"allData\", prints all the quarters available in the data and then assuming each of these has a \"White Light\" column, creates lists with the values (the columns) and corresponding labels to throw at the function to plot. \n"
   ]
  },
  {
   "cell_type": "code",
   "execution_count": null,
   "metadata": {},
   "outputs": [],
   "source": [
    "file_prefix = \"example_output/\""
   ]
  },
  {
   "cell_type": "code",
   "execution_count": null,
   "metadata": {},
   "outputs": [
    {
     "data": {
      "text/html": [
       "<div>\n",
       "<style scoped>\n",
       "    .dataframe tbody tr th:only-of-type {\n",
       "        vertical-align: middle;\n",
       "    }\n",
       "\n",
       "    .dataframe tbody tr th {\n",
       "        vertical-align: top;\n",
       "    }\n",
       "\n",
       "    .dataframe thead th {\n",
       "        text-align: right;\n",
       "    }\n",
       "</style>\n",
       "<table border=\"1\" class=\"dataframe\">\n",
       "  <thead>\n",
       "    <tr style=\"text-align: right;\">\n",
       "      <th></th>\n",
       "      <th>Off-Wrist Status</th>\n",
       "      <th>Activity</th>\n",
       "      <th>Marker</th>\n",
       "      <th>White Light</th>\n",
       "      <th>Red Light</th>\n",
       "      <th>Green Light</th>\n",
       "      <th>Blue Light</th>\n",
       "      <th>Sleep/Wake</th>\n",
       "      <th>Interval Status</th>\n",
       "      <th>UID</th>\n",
       "      <th>Group</th>\n",
       "    </tr>\n",
       "    <tr>\n",
       "      <th>DateTime</th>\n",
       "      <th></th>\n",
       "      <th></th>\n",
       "      <th></th>\n",
       "      <th></th>\n",
       "      <th></th>\n",
       "      <th></th>\n",
       "      <th></th>\n",
       "      <th></th>\n",
       "      <th></th>\n",
       "      <th></th>\n",
       "      <th></th>\n",
       "    </tr>\n",
       "  </thead>\n",
       "  <tbody>\n",
       "    <tr>\n",
       "      <th>2018-05-07 11:28:00</th>\n",
       "      <td>0</td>\n",
       "      <td>NaN</td>\n",
       "      <td>0.0</td>\n",
       "      <td>NaN</td>\n",
       "      <td>NaN</td>\n",
       "      <td>NaN</td>\n",
       "      <td>NaN</td>\n",
       "      <td>NaN</td>\n",
       "      <td>ACTIVE</td>\n",
       "      <td>v1data\\v1</td>\n",
       "      <td>v1</td>\n",
       "    </tr>\n",
       "    <tr>\n",
       "      <th>2018-05-07 11:28:30</th>\n",
       "      <td>0</td>\n",
       "      <td>NaN</td>\n",
       "      <td>0.0</td>\n",
       "      <td>NaN</td>\n",
       "      <td>NaN</td>\n",
       "      <td>NaN</td>\n",
       "      <td>NaN</td>\n",
       "      <td>NaN</td>\n",
       "      <td>ACTIVE</td>\n",
       "      <td>v1data\\v1</td>\n",
       "      <td>v1</td>\n",
       "    </tr>\n",
       "    <tr>\n",
       "      <th>2018-05-07 11:29:00</th>\n",
       "      <td>0</td>\n",
       "      <td>NaN</td>\n",
       "      <td>0.0</td>\n",
       "      <td>NaN</td>\n",
       "      <td>NaN</td>\n",
       "      <td>NaN</td>\n",
       "      <td>NaN</td>\n",
       "      <td>NaN</td>\n",
       "      <td>ACTIVE</td>\n",
       "      <td>v1data\\v1</td>\n",
       "      <td>v1</td>\n",
       "    </tr>\n",
       "    <tr>\n",
       "      <th>2018-05-07 11:29:30</th>\n",
       "      <td>0</td>\n",
       "      <td>NaN</td>\n",
       "      <td>0.0</td>\n",
       "      <td>NaN</td>\n",
       "      <td>NaN</td>\n",
       "      <td>NaN</td>\n",
       "      <td>NaN</td>\n",
       "      <td>NaN</td>\n",
       "      <td>ACTIVE</td>\n",
       "      <td>v1data\\v1</td>\n",
       "      <td>v1</td>\n",
       "    </tr>\n",
       "    <tr>\n",
       "      <th>2018-05-07 11:30:00</th>\n",
       "      <td>0</td>\n",
       "      <td>NaN</td>\n",
       "      <td>0.0</td>\n",
       "      <td>NaN</td>\n",
       "      <td>NaN</td>\n",
       "      <td>NaN</td>\n",
       "      <td>NaN</td>\n",
       "      <td>NaN</td>\n",
       "      <td>ACTIVE</td>\n",
       "      <td>v1data\\v1</td>\n",
       "      <td>v1</td>\n",
       "    </tr>\n",
       "  </tbody>\n",
       "</table>\n",
       "</div>"
      ],
      "text/plain": [
       "                     Off-Wrist Status  Activity  Marker  White Light  \\\n",
       "DateTime                                                               \n",
       "2018-05-07 11:28:00                 0       NaN     0.0          NaN   \n",
       "2018-05-07 11:28:30                 0       NaN     0.0          NaN   \n",
       "2018-05-07 11:29:00                 0       NaN     0.0          NaN   \n",
       "2018-05-07 11:29:30                 0       NaN     0.0          NaN   \n",
       "2018-05-07 11:30:00                 0       NaN     0.0          NaN   \n",
       "\n",
       "                     Red Light  Green Light  Blue Light  Sleep/Wake  \\\n",
       "DateTime                                                              \n",
       "2018-05-07 11:28:00        NaN          NaN         NaN         NaN   \n",
       "2018-05-07 11:28:30        NaN          NaN         NaN         NaN   \n",
       "2018-05-07 11:29:00        NaN          NaN         NaN         NaN   \n",
       "2018-05-07 11:29:30        NaN          NaN         NaN         NaN   \n",
       "2018-05-07 11:30:00        NaN          NaN         NaN         NaN   \n",
       "\n",
       "                    Interval Status        UID Group  \n",
       "DateTime                                              \n",
       "2018-05-07 11:28:00          ACTIVE  v1data\\v1    v1  \n",
       "2018-05-07 11:28:30          ACTIVE  v1data\\v1    v1  \n",
       "2018-05-07 11:29:00          ACTIVE  v1data\\v1    v1  \n",
       "2018-05-07 11:29:30          ACTIVE  v1data\\v1    v1  \n",
       "2018-05-07 11:30:00          ACTIVE  v1data\\v1    v1  "
      ]
     },
     "execution_count": null,
     "metadata": {},
     "output_type": "execute_result"
    }
   ],
   "source": [
    "all_data = pd.read_parquet(file_prefix+'raw.parquet')\n",
    "all_data.head()"
   ]
  },
  {
   "cell_type": "code",
   "execution_count": null,
   "metadata": {},
   "outputs": [],
   "source": [
    "def quarter_hourly(dtime):\n",
    "    tm = pd.to_datetime('{}:{:02d}'.format(dtime.hour,(dtime.minute//15)*15))\n",
    "    return tm.time()"
   ]
  },
  {
   "cell_type": "code",
   "execution_count": null,
   "metadata": {},
   "outputs": [
    {
     "data": {
      "text/plain": [
       "Index(['Off-Wrist Status', 'Activity', 'Marker', 'White Light', 'Red Light',\n",
       "       'Green Light', 'Blue Light', 'Sleep/Wake', 'Interval Status', 'UID',\n",
       "       'Group'],\n",
       "      dtype='object')"
      ]
     },
     "execution_count": null,
     "metadata": {},
     "output_type": "execute_result"
    }
   ],
   "source": [
    "all_data.columns"
   ]
  },
  {
   "cell_type": "code",
   "execution_count": null,
   "metadata": {},
   "outputs": [
    {
     "name": "stdout",
     "output_type": "stream",
     "text": [
      "v1\n"
     ]
    }
   ],
   "source": [
    "these_rows = np.logical_and( np.logical_not(all_data['Off-Wrist Status']), np.logical_and( all_data['Interval Status'].isin(['ACTIVE','REST']), all_data['White Light']>1.0) ) \n",
    "for agroup in all_data.Group.unique():\n",
    "    print(agroup)\n",
    "    theones = (all_data.Group == agroup) & (these_rows)\n",
    "    exec('{} = all_data[theones].dropna().groupby(quarter_hourly).filter(lambda x: x[\"White Light\"].count()>500,dropna=False).groupby(quarter_hourly)'.format(agroup.replace(' ','_'),  ))"
   ]
  },
  {
   "cell_type": "code",
   "execution_count": null,
   "metadata": {},
   "outputs": [
    {
     "name": "stdout",
     "output_type": "stream",
     "text": [
      "v1 - cumulative Lux*sec: 6.034318e+05, center of mass of light exposure: 12:04:00\n"
     ]
    },
    {
     "data": {
      "image/png": "[encoded data removed]",
      "text/plain": [
       "<Figure size 576x432 with 1 Axes>"
      ]
     },
     "metadata": {},
     "output_type": "display_data"
    }
   ],
   "source": [
    "sns.set(style=\"darkgrid\")\n",
    "plot_light([v1[\"White Light\"]], [\"v1\"])"
   ]
  },
  {
   "cell_type": "code",
   "execution_count": null,
   "metadata": {},
   "outputs": [
    {
     "name": "stdout",
     "output_type": "stream",
     "text": [
      "v1 - cumulative Lux*sec: 1.361034e+05, center of mass of light exposure: 11:44:00\n"
     ]
    },
    {
     "data": {
      "image/png": "[encoded data removed]",
      "text/plain": [
       "<Figure size 576x432 with 1 Axes>"
      ]
     },
     "metadata": {},
     "output_type": "display_data"
    }
   ],
   "source": [
    "plot_light([v1[\"White Light\"]], [\"v1\"], toplot = \"quantiles\")"
   ]
  },
  {
   "cell_type": "code",
   "execution_count": null,
   "metadata": {},
   "outputs": [
    {
     "ename": "NameError",
     "evalue": "name 'd1m' is not defined",
     "output_type": "error",
     "traceback": [
      "\u001b[1;31m---------------------------------------------------------------------------\u001b[0m",
      "\u001b[1;31mNameError\u001b[0m                                 Traceback (most recent call last)",
      "\u001b[1;32m<ipython-input-31-3e8445473168>\u001b[0m in \u001b[0;36m<module>\u001b[1;34m\u001b[0m\n\u001b[1;32m----> 1\u001b[1;33m \u001b[0mplot_light\u001b[0m\u001b[1;33m(\u001b[0m\u001b[1;33m[\u001b[0m\u001b[0mv1\u001b[0m\u001b[1;33m[\u001b[0m\u001b[1;34m\"White Light\"\u001b[0m\u001b[1;33m]\u001b[0m\u001b[1;33m]\u001b[0m\u001b[1;33m,\u001b[0m \u001b[1;33m[\u001b[0m\u001b[1;34m\"v1\"\u001b[0m\u001b[1;33m]\u001b[0m\u001b[1;33m,\u001b[0m \u001b[0mtoplot\u001b[0m \u001b[1;33m=\u001b[0m \u001b[1;34m\"counts\"\u001b[0m\u001b[1;33m)\u001b[0m\u001b[1;33m\u001b[0m\u001b[1;33m\u001b[0m\u001b[0m\n\u001b[0m",
      "\u001b[1;32m<ipython-input-22-cb23ddd2b7a4>\u001b[0m in \u001b[0;36mplot_light\u001b[1;34m(d_list, l_list, toplot, y_lim, y_label, palette)\u001b[0m\n\u001b[0;32m     20\u001b[0m         \u001b[0mtoplot\u001b[0m \u001b[1;33m=\u001b[0m \u001b[1;34m''\u001b[0m\u001b[1;33m\u001b[0m\u001b[1;33m\u001b[0m\u001b[0m\n\u001b[0;32m     21\u001b[0m         \u001b[0my_label\u001b[0m \u001b[1;33m=\u001b[0m \u001b[1;34m\"Number of samples \"\u001b[0m\u001b[1;33m\u001b[0m\u001b[1;33m\u001b[0m\u001b[0m\n\u001b[1;32m---> 22\u001b[1;33m         \u001b[0my_lim\u001b[0m \u001b[1;33m=\u001b[0m \u001b[0mnp\u001b[0m\u001b[1;33m.\u001b[0m\u001b[0mmax\u001b[0m\u001b[1;33m(\u001b[0m \u001b[1;33m[\u001b[0m\u001b[0md1m\u001b[0m\u001b[1;33m.\u001b[0m\u001b[0mmax\u001b[0m\u001b[1;33m(\u001b[0m\u001b[1;33m)\u001b[0m\u001b[1;33m,\u001b[0m \u001b[0md2m\u001b[0m\u001b[1;33m.\u001b[0m\u001b[0mmax\u001b[0m\u001b[1;33m(\u001b[0m\u001b[1;33m)\u001b[0m\u001b[1;33m]\u001b[0m \u001b[1;33m)\u001b[0m \u001b[1;33m*\u001b[0m \u001b[1;36m1.05\u001b[0m\u001b[1;33m\u001b[0m\u001b[1;33m\u001b[0m\u001b[0m\n\u001b[0m\u001b[0;32m     23\u001b[0m         \u001b[1;32mfor\u001b[0m \u001b[0md\u001b[0m \u001b[1;32min\u001b[0m \u001b[0md_list\u001b[0m\u001b[1;33m:\u001b[0m\u001b[1;33m\u001b[0m\u001b[1;33m\u001b[0m\u001b[0m\n\u001b[0;32m     24\u001b[0m             \u001b[0mdm\u001b[0m\u001b[1;33m.\u001b[0m\u001b[0mappend\u001b[0m\u001b[1;33m(\u001b[0m \u001b[0md\u001b[0m\u001b[1;33m.\u001b[0m\u001b[0mcount\u001b[0m\u001b[1;33m(\u001b[0m\u001b[1;33m)\u001b[0m\u001b[1;33m.\u001b[0m\u001b[0msort_index\u001b[0m\u001b[1;33m(\u001b[0m\u001b[1;33m)\u001b[0m \u001b[1;33m)\u001b[0m\u001b[1;33m\u001b[0m\u001b[1;33m\u001b[0m\u001b[0m\n",
      "\u001b[1;31mNameError\u001b[0m: name 'd1m' is not defined"
     ]
    }
   ],
   "source": [
    "#plot_light([v1[\"White Light\"]], [\"v1\"], toplot = \"counts\")"
   ]
  },
  {
   "cell_type": "markdown",
   "metadata": {},
   "source": [
    "## Missing Variables:\n",
    "\n",
    "### Function Line # 22: \n",
    "\n",
    "Can be found in the original SALA package cell in line # 32.\n",
    "\n",
    "    1. d1m\n",
    "    2. d2m\n",
    "  "
   ]
  },
  {
   "cell_type": "code",
   "execution_count": null,
   "metadata": {},
   "outputs": [],
   "source": []
  }
 ],
 "metadata": {
  "kernelspec": {
   "display_name": "Python 3",
   "language": "python",
   "name": "python3"
  }
 },
 "nbformat": 4,
 "nbformat_minor": 4
}
