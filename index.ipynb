{
 "cells": [
  {
   "cell_type": "markdown",
   "metadata": {},
   "source": [
    "# SALA - Spectrum Actiwatch Light Analysis\n",
    "\n",
    "> A suite of tools built to work with light data from a Philips Spectrum Plus.\n",
    "\n"
   ]
  },
  {
   "cell_type": "markdown",
   "metadata": {},
   "source": [
    "This package contains a sutie of tools to work with light data from a Philips Spectrum Plus. It takes data exported in CSV format from Philips Actiware and produces additional analysis stored in parquet files.\n",
    "\n",
    "Notebooks originally written by: Jason Fleischer\n",
    "\n",
    "Updated for package by: Tyler Tran"
   ]
  },
  {
   "cell_type": "markdown",
   "metadata": {},
   "source": [
    "## Install"
   ]
  },
  {
   "cell_type": "markdown",
   "metadata": {},
   "source": [
    "`pip install SALA`"
   ]
  }
 ],
 "metadata": {
  "kernelspec": {
   "display_name": "Python 3 (ipykernel)",
   "language": "python",
   "name": "python3"
  }
 },
 "nbformat": 4,
 "nbformat_minor": 2
}
