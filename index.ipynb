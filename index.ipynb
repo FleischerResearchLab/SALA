{
 "cells": [
  {
   "cell_type": "code",
   "execution_count": null,
   "metadata": {},
   "outputs": [],
   "source": [
    "#hide\n",
    "from SALA.analyze_by_person import *\n",
    "\n",
    "import pandas as pd"
   ]
  },
  {
   "cell_type": "markdown",
   "metadata": {},
   "source": [
    "# SALA - Spectrum Actiwatch Light Analysis\n",
    "\n",
    "> A suite of tools built to work with light data from a Philips Spectrum Plus.\n",
    "\n"
   ]
  },
  {
   "cell_type": "markdown",
   "metadata": {},
   "source": [
    "This package contains a sutie of tools to work with light data from a Philips Spectrum Plus. It takes data exported in CSV format from Philips Actiware and produces additional analysis stored in parquet files.\n",
    "\n",
    "Notebooks originally written by: Jason Fleischer\n",
    "\n",
    "Updated for package by: Tyler Tran"
   ]
  },
  {
   "cell_type": "markdown",
   "metadata": {},
   "source": [
    "## Install"
   ]
  },
  {
   "cell_type": "markdown",
   "metadata": {},
   "source": [
    "`pip install SALA`"
   ]
  },
  {
   "cell_type": "code",
   "execution_count": null,
   "metadata": {},
   "outputs": [],
   "source": []
  }
 ],
 "metadata": {
  "kernelspec": {
   "display_name": "Python 3",
   "language": "python",
   "name": "python3"
  }
 },
 "nbformat": 4,
 "nbformat_minor": 2
}
